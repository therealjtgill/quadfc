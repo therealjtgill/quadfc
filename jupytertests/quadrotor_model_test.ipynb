{
 "cells": [
  {
   "cell_type": "code",
   "execution_count": 1,
   "metadata": {},
   "outputs": [],
   "source": [
    "import numpy as np\n",
    "import matplotlib.pyplot as plt\n",
    "import mpl_toolkits.mplot3d.axes3d as p3\n",
    "from mpl_toolkits.mplot3d import Axes3D\n",
    "from matplotlib import animation"
   ]
  },
  {
   "cell_type": "code",
   "execution_count": 2,
   "metadata": {},
   "outputs": [],
   "source": [
    "%matplotlib tk"
   ]
  },
  {
   "cell_type": "markdown",
   "metadata": {},
   "source": [
    "arm_mass = 0.2 #kg\n",
    "arm_length = 0.6 #meter\n",
    "motor_mass = 0.065\n",
    "\n",
    "arm_lengths = [arm_length,]*4\n",
    "\n",
    "total_inertia_tensor = np.zeros((3, 3))\n",
    "\n",
    "arms_inertia_tensor = np.zeros((3, 3))\n",
    "arms_inertia_tensor[0, 0] = 2*(1/12)*arm_mass*arm_length**2\n",
    "arms_inertia_tensor[1, 1] = (1/12)*arm_mass*arm_length**2\n",
    "arms_inertia_tensor[2, 2] = (1/12)*arm_mass*arm_length**2\n",
    "\n",
    "motors_inertia_tensor = np.zeros((3, 3))\n",
    "motors_inertia_tensor[0, 0] = 2*motor_mass*arm_length**2\n",
    "motors_inertia_tensor[1, 1] = 2*motor_mass*arm_length**2\n",
    "motors_inertia_tensor[2, 2] = 4*motor_mass*arm_length**2\n",
    "\n",
    "total_inertia_tensor = arms_inertia_tensor + motors_inertia_tensor"
   ]
  },
  {
   "cell_type": "code",
   "execution_count": 3,
   "metadata": {},
   "outputs": [],
   "source": [
    "def get_dyn_constants(body_mass):\n",
    "    prop_radius = 0.1016 # meters\n",
    "    prop_pitch = 0.1143 # meters\n",
    "    c_d = 0.09 # airfoil\n",
    "    body_max_omega_z = 3600*(np.pi/180) # radians/second; max body angular velocity about z axis\n",
    "    \n",
    "    neutral_buoyancy_pulse = 750 # unitless\n",
    "    g = 9.81\n",
    "    k_force = body_mass*g/(4*((neutral_buoyancy_pulse)**2))\n",
    "    k_torque = 0.5*(prop_radius**4)*prop_pitch*c_d*(body_max_omega_z**2)/(10**2)\n",
    "    return k_force, k_torque\n"
   ]
  },
  {
   "cell_type": "code",
   "execution_count": 4,
   "metadata": {},
   "outputs": [],
   "source": [
    "def get_body_constants():\n",
    "    \n",
    "    arm_mass = 0.2 #kg\n",
    "    arm_length = 0.6 #meter\n",
    "    motor_mass = 0.065\n",
    "\n",
    "    arm_lengths = [arm_length,]*4\n",
    "\n",
    "    total_inertia_tensor = np.zeros((3, 3))\n",
    "\n",
    "    arms_inertia_tensor = np.zeros((3, 3))\n",
    "    arms_inertia_tensor[0, 0] = (1/12)*arm_mass*arm_length**2\n",
    "    arms_inertia_tensor[1, 1] = (1/12)*arm_mass*arm_length**2\n",
    "    arms_inertia_tensor[2, 2] = (1/12)*arm_mass*arm_length**2\n",
    "\n",
    "    motors_inertia_tensor = np.zeros((3, 3))\n",
    "    motors_inertia_tensor[0, 0] = 2*motor_mass*arm_length**2\n",
    "    motors_inertia_tensor[1, 1] = 2*motor_mass*arm_length**2\n",
    "    motors_inertia_tensor[2, 2] = 4*motor_mass*arm_length**2\n",
    "\n",
    "    total_inertia_tensor = arms_inertia_tensor + motors_inertia_tensor\n",
    "\n",
    "    body_mass = arm_mass*2 + motor_mass*4\n",
    "    return body_mass, total_inertia_tensor, arm_lengths"
   ]
  },
  {
   "cell_type": "code",
   "execution_count": 5,
   "metadata": {},
   "outputs": [],
   "source": [
    "def DCM_from_quat(q):\n",
    "    R = np.zeros((3, 3))\n",
    "    R[0, 0] = 1. - 2.*(q[2]**2 + q[3]**2)\n",
    "    R[0, 1] = 2.*(q[1]*q[2] - q[0]*q[3])\n",
    "    R[0, 2] = 2.*(q[0]*q[2] + q[1]*q[3])\n",
    "    R[1, 0] = 2.*(q[1]*q[2] + q[0]*q[3])\n",
    "    R[1, 1] = 1. - 2.*(q[1]**2 + q[3]**2)\n",
    "    R[1, 2] = 2.*(q[3]*q[2] - q[1]*q[0])\n",
    "    R[2, 0] = 2.*(q[1]*q[3] - q[0]*q[2])\n",
    "    R[2, 1] = 2.*(q[1]*q[0] + q[3]*q[2])\n",
    "    R[2, 2] = 1. - 2.*(q[1]**2 + q[2]**2)\n",
    "    return R"
   ]
  },
  {
   "cell_type": "code",
   "execution_count": 6,
   "metadata": {},
   "outputs": [],
   "source": [
    "def tait_bryan_from_quat(q_cur):\n",
    "    phi   = np.arctan2(2*(q_cur[0]*q_cur[1] + q_cur[2]*q_cur[3]), 1. - 2.*(q_cur[1]**2 + q_cur[2]**2))*180/np.pi\n",
    "    theta = np.arcsin(2*(q_cur[0]*q_cur[2] - q_cur[3]*q_cur[1]))*180/np.pi\n",
    "    psi   = np.arctan2(2*(q_cur[0]*q_cur[3] + q_cur[1]*q_cur[2]), 1. - 2.*(q_cur[2]**2 + q_cur[3]**2))*180/np.pi\n",
    "    return phi, theta, psi #returns degrees"
   ]
  },
  {
   "cell_type": "code",
   "execution_count": 7,
   "metadata": {},
   "outputs": [],
   "source": [
    "def quat_mult(q1, q2):\n",
    "    #print(q1, q2)\n",
    "    #print(q1.shape, q2.shape)\n",
    "    #q3 = np.zeros((1, 4))\n",
    "    q3 = np.array([0., 0., 0., 0.,])\n",
    "    q3[0] = q1[0]*q2[0] - q1[1:].dot(q2[1:])\n",
    "    q3[1:] = q1[0]*q2[1:] + q2[0]*q1[1:] + np.cross(q1[1:], q2[1:])\n",
    "    return q3"
   ]
  },
  {
   "cell_type": "code",
   "execution_count": 8,
   "metadata": {},
   "outputs": [],
   "source": [
    "def quat_inv(q1):\n",
    "    #q2 = np.zeros((1, 4))\n",
    "    q2 = np.array([0., 0., 0., 0.,])\n",
    "    mag = np.linalg.norm(q1)\n",
    "    q2[0] = q1[0]\n",
    "    q2[1:] = -1.*q1[1:]\n",
    "    q2 /= (mag*mag)\n",
    "    return q2"
   ]
  },
  {
   "cell_type": "code",
   "execution_count": 9,
   "metadata": {},
   "outputs": [],
   "source": [
    "def calc_omega_dot_body(omega_body, inertia_body, torques_body):\n",
    "    cp = np.cross(omega_body, inertia_body.dot(omega_body))\n",
    "    inv_inert = np.linalg.inv(inertia_body)\n",
    "    #print(\"inv inertia:\\n\", inv_inert)\n",
    "    #print(\"omega_dot_body cross product:\", cp)\n",
    "    omega_dot_body = inv_inert.dot(torques_body - cp)\n",
    "    return omega_dot_body"
   ]
  },
  {
   "cell_type": "code",
   "execution_count": 10,
   "metadata": {},
   "outputs": [],
   "source": [
    "# Expects motor_speeds to be a 4-length array with values of (pulse_width_i - 1000)\n",
    "def get_torques_body(motor_speeds, arm_lengths, k_force, k_torque):\n",
    "    #torques_body = np.zeros((1, 3))\n",
    "    torques_body = np.array([0., 0., 0.,])\n",
    "    #print(\"torques_body:\", torques_body)\n",
    "    torques_body[0] = arm_lengths[1]*k_force*(motor_speeds[1]**2) - arm_lengths[3]*k_force*(motor_speeds[3]**2)\n",
    "    torques_body[1] = arm_lengths[2]*k_force*(motor_speeds[2]**2) - arm_lengths[0]*k_force*(motor_speeds[0]**2)\n",
    "    #torques_body[0] = arm_lengths[3]*k_force*(motor_speeds[3]**2) + arm_lengths[2]*k_force*(motor_speeds[2]**2) - arm_lengths[0]*k_force*(motor_speeds[0]**2) - arm_lengths[1]*k_force*(motor_speeds[1]**2)\n",
    "    #torques_body[1] = arm_lengths[3]*k_force*(motor_speeds[3]**2) - arm_lengths[2]*k_force*(motor_speeds[2]**2) + arm_lengths[0]*k_force*(motor_speeds[0]**2) - arm_lengths[1]*k_force*(motor_speeds[1]**2)\n",
    "    torques_body[2] = k_torque*(-1*motor_speeds[0]**2 + motor_speeds[1]**2 - motor_speeds[2]**2 + motor_speeds[3]**2)\n",
    "    #print(\"torques_body after stuff:\", torques_body)\n",
    "    return torques_body"
   ]
  },
  {
   "cell_type": "code",
   "execution_count": 11,
   "metadata": {},
   "outputs": [],
   "source": [
    "# Expects motor_speeds to be a 4-length array with values of (pulse_width_i - 1000)\n",
    "def get_forces_body(motor_speeds, k_force):\n",
    "    #forces_body = np.zeros((1, 3))\n",
    "    forces_body = np.array([0., 0., 0.,])\n",
    "    forces_body[2] = k_force*sum([s**2 for s in motor_speeds])\n",
    "    return forces_body"
   ]
  },
  {
   "cell_type": "code",
   "execution_count": 12,
   "metadata": {},
   "outputs": [],
   "source": [
    "# Expects motor_speeds to be a 4-length array with values of (pulse_width_i - 1000)\n",
    "def update_orientation_body(\n",
    "    omega_body_prev,\n",
    "    q_body_prev,\n",
    "    dt,\n",
    "    arm_lengths,\n",
    "    k_force,\n",
    "    k_torque,\n",
    "    inertia_body,\n",
    "    motor_speeds\n",
    "):\n",
    "    torques_body = get_torques_body(motor_speeds, arm_lengths, k_force, k_torque)\n",
    "    #print(\"torques:\", torques_body)\n",
    "    omega_dot_body = calc_omega_dot_body(omega_body_prev, inertia_body, torques_body)\n",
    "    #print(\"omega_dot_body\", omega_dot_body)\n",
    "    omega_body = omega_body_prev + omega_dot_body*dt\n",
    "    #print(\"omega_body_prev:\", omega_body_prev)\n",
    "    \n",
    "    theta = -np.pi/2 - np.pi/4\n",
    "    R_z = np.zeros((3, 3))\n",
    "    R_z[0, 0] = np.cos(theta)\n",
    "    R_z[0, 1] = -np.sin(theta)\n",
    "    R_z[1, 0] = np.sin(theta)\n",
    "    R_z[1, 1] = np.cos(theta)\n",
    "    R_z[2, 2] = 1.\n",
    "    omega_body_rot = R_z.dot(omega_body)\n",
    "    #print(\"omega_body_rot:\", omega_body_rot)\n",
    "    delta_theta_dot = np.linalg.norm(omega_body_rot)\n",
    "    quat_omega_body = np.array([np.cos(delta_theta_dot*dt/2.)] + list(np.sin(delta_theta_dot*dt/2.)*omega_body_rot/(delta_theta_dot + 1e-8)))\n",
    "    q_body = quat_mult(q_body_prev, quat_omega_body)\n",
    "    if np.linalg.norm(q_body) < 0.999:\n",
    "        q_body += 0.1*(1. - np.linalg.norm(q_body)**2)*q_body\n",
    "    #print(\"q_body update_orientation_body:\", q_body)\n",
    "    return q_body, omega_body"
   ]
  },
  {
   "cell_type": "code",
   "execution_count": 13,
   "metadata": {},
   "outputs": [],
   "source": [
    "# Expects motor_speeds to be a 4-length array with values of (pulse_width_i - 1000)\n",
    "def get_force_inertial(vel_inert_prev, q_body, motor_speeds, k_force, k_damp, body_mass):\n",
    "\n",
    "    forces_body = get_forces_body(motor_speeds, k_force)\n",
    "    #print(\"forces_body:\", forces_body)\n",
    "    forces_body_quat = np.array([0., 0., 0., 0.,])\n",
    "    forces_body_quat[1:] = forces_body\n",
    "    net_force_inert = body_mass*np.array([0, 0, -9.8]) + \\\n",
    "        quat_mult(quat_mult(quat_inv(q_body), forces_body_quat), q_body)[1:] - \\\n",
    "        k_damp*vel_inert_prev\n",
    "    #net_force_inert = body_mass*np.array([0, 0, -9.8]) + \\\n",
    "    #    quat_mult(quat_mult(q_body, forces_body_quat), quat_inv(q_body))[1:] - \\\n",
    "    #    k_damp*vel_inert_prev\n",
    "    return net_force_inert"
   ]
  },
  {
   "cell_type": "code",
   "execution_count": 14,
   "metadata": {},
   "outputs": [],
   "source": [
    "# Expects motor_speeds to be a 4-length array with values of (pulse_width_i - 1000)\n",
    "def update_pos_vel_inertial(\n",
    "    pos_inert_prev,\n",
    "    vel_inert_prev,\n",
    "    accel_inert_prev,\n",
    "    q_body,\n",
    "    motor_speeds,\n",
    "    k_force,\n",
    "    k_damp,\n",
    "    body_mass,\n",
    "    dt\n",
    "):\n",
    "    \n",
    "    # Velocity verlet\n",
    "    pos_inert = pos_inert_prev + vel_inert_prev*dt + 0.5*accel_inert_prev*dt*dt\n",
    "    accel_inert = get_force_inertial(vel_inert_prev, q_body, motor_speeds, k_force, k_damp, body_mass)/body_mass\n",
    "    #print(\"accel_inert:\", accel_inert)\n",
    "    vel_inert = vel_inert_prev + 0.5*(accel_inert + accel_inert_prev)*dt\n",
    "    \n",
    "    return pos_inert, vel_inert, accel_inert"
   ]
  },
  {
   "cell_type": "code",
   "execution_count": 15,
   "metadata": {},
   "outputs": [],
   "source": [
    "class PID(object):\n",
    "    def __init__(self, kp, ki, kd, out_max=np.inf, out_min=-np.inf):\n",
    "        self.kp = kp\n",
    "        self.ki = ki\n",
    "        self.kd = kd\n",
    "        self.out_max = out_max\n",
    "        self.out_min = out_min\n",
    "        self.error_prev = 0.\n",
    "        self.error_integ = 0.\n",
    "        self.updated = False\n",
    "        \n",
    "    def update(self, sig_in, sig_set):\n",
    "        #error = sig_in - sig_set\n",
    "        error = sig_set - sig_in\n",
    "        if not self.updated:\n",
    "            sig_out = self.kp*error\n",
    "            self.error_prev = error\n",
    "            self.error_integ += error\n",
    "            self.updated = True\n",
    "            return sig_out\n",
    "        \n",
    "        error_dot = error - self.error_prev\n",
    "        self.integrate(error)\n",
    "        sig_out = self.kp*error + self.kd*error_dot + self.ki*self.error_integ\n",
    "        sig_out_bounded = self.bound(sig_out)\n",
    "        self.error_prev = error\n",
    "        #print(\"sig out bounded:\", sig_out_bounded, \"sig out:\", sig_out)\n",
    "        return sig_out_bounded\n",
    "        \n",
    "    def bound(self, sig_out):\n",
    "        #print(\"sig_out < out_max:\", sig_out < self.out_max)\n",
    "        #print(\"sig_out > out_min:\", sig_out > self.out_min)\n",
    "        #print(\"min, sig_out, max:\", self.out_min, self.out_max, sig_out)\n",
    "        return max(\n",
    "            min(sig_out, self.out_max),\n",
    "            self.out_min\n",
    "        )\n",
    "    \n",
    "    def integrate(self, error):\n",
    "        if self.error_integ <= self.out_max and self.error_integ >= self.out_min:\n",
    "            self.error_integ += error\n",
    "            \n",
    "        return self.error_integ\n",
    "\n",
    "class AttitudeController(object):\n",
    "    # Cascaded PID controller\n",
    "    # theta_cur ___     _____\n",
    "    #              |___|     |\n",
    "    #               ___| PID |____\n",
    "    # theta_set ___|   |_____|    |                    _____\n",
    "    #                             |__theta_dot_set____|     |\n",
    "    #                                             ____| PID |___motor_pulse___\n",
    "    # theta_dot_cur______________________________|    |_____|\n",
    "    \n",
    "    def __init__(self, angle_gains, omega_gains, omega_bounds, psi_gains, psi_bounds):\n",
    "        self.pid_phi        = PID(angle_gains[0], angle_gains[1], angle_gains[2])\n",
    "        self.pid_theta      = PID(angle_gains[0], angle_gains[1], angle_gains[2])\n",
    "        self.pid_phi_dot    = PID(omega_gains[0], omega_gains[1], omega_gains[2], max(omega_bounds), min(omega_bounds))\n",
    "        self.pid_theta_dot  = PID(omega_gains[0], omega_gains[1], omega_gains[2], max(omega_bounds), min(omega_bounds))\n",
    "        self.pid_psi_dot    = PID(psi_gains[0], psi_gains[1], psi_gains[2], max(psi_bounds), min(psi_bounds))\n",
    "    \n",
    "    def update(self, q_cur, omega_cur, setpoints):\n",
    "        # omega_cur = [rad/s, rad/s, rad/s]\n",
    "        # angle_setpoints = [deg_roll, deg_pitch, deg_yaw/s]\n",
    "\n",
    "        phi   = np.arctan2(2*(q_cur[0]*q_cur[1] + q_cur[2]*q_cur[3]), 1. - 2.*(q_cur[1]**2 + q_cur[2]**2))*180/np.pi\n",
    "        theta = np.arcsin(2*(q_cur[0]*q_cur[2] - q_cur[3]*q_cur[1]))*180/np.pi\n",
    "\n",
    "        #print(\"controller update phi:\", phi, \"\\t theta:\", theta, \"\\t q_cur magnitude:\", np.linalg.norm(q_cur))\n",
    "        \n",
    "        phi_dot   = omega_cur[0]*180/np.pi\n",
    "        theta_dot = omega_cur[1]*180/np.pi\n",
    "        psi_dot   = omega_cur[2]*180/np.pi\n",
    "        \n",
    "        omega_setpoint = [None, None, None]\n",
    "        omega_setpoint[0] = self.pid_phi.update(phi, setpoints[0])\n",
    "        omega_setpoint[1] = self.pid_theta.update(theta, setpoints[1])\n",
    "        omega_setpoint[2] = self.pid_psi_dot.update(psi_dot, setpoints[2])\n",
    "        \n",
    "        #print(\"roll_dot_setpoint:\", omega_setpoint[0])\n",
    "        \n",
    "        roll_command  = self.pid_phi_dot.update(phi_dot, omega_setpoint[0])\n",
    "        pitch_command = self.pid_theta_dot.update(theta_dot, omega_setpoint[1])\n",
    "        yaw_dot_command = omega_setpoint[2]\n",
    "        \n",
    "        return roll_command, pitch_command, yaw_dot_command\n",
    "    \n",
    "    # Callable function returns motor pulses\n",
    "    def __call__(self, q_cur, omega_cur, setpoints, throttle):\n",
    "        roll_comm, pitch_comm, yaw_dot_comm = self.update(q_cur, omega_cur, setpoints)\n",
    "        #print(\"roll command:\", roll_comm, \"\\t pitch command:\", pitch_comm, \"\\t yaw dot command:\", yaw_dot_comm)\n",
    "        # which motors are on the left and which are on the right? goddamnit.\n",
    "        # Right side: M1, M2\n",
    "        # Left side: M3, M4\n",
    "        '''\n",
    "                   Front\n",
    "            CW   M3     M2  CCW\n",
    "                   \\   /\n",
    "                    \\_/\n",
    "            Left    |_|   Right\n",
    "                    / \\\n",
    "                   /   \\\n",
    "            CCW  M4     M1  CW\n",
    "                   Back\n",
    "        '''\n",
    "        \n",
    "        motor_pulses = [0,]*4\n",
    "        motor_pulses[0] = throttle + roll_comm - pitch_comm - yaw_dot_comm\n",
    "        motor_pulses[1] = throttle + roll_comm + pitch_comm + yaw_dot_comm\n",
    "        motor_pulses[2] = throttle - roll_comm + pitch_comm - yaw_dot_comm\n",
    "        motor_pulses[3] = throttle - roll_comm - pitch_comm + yaw_dot_comm\n",
    "        return motor_pulses"
   ]
  },
  {
   "cell_type": "code",
   "execution_count": 16,
   "metadata": {},
   "outputs": [],
   "source": [
    "def run_6dof(\n",
    "    num_timesteps, # number of dt's\n",
    "    dt,\n",
    "    pos_init,\n",
    "    vel_init,\n",
    "    q_init,\n",
    "    omega_init,\n",
    "    controller=(lambda *x: np.array([750,]*4))\n",
    "):\n",
    "    body_mass, body_inertia_tensor, arm_lengths = get_body_constants()\n",
    "    print(\"body inertia tensor:\\n\\n\", body_inertia_tensor)\n",
    "    k_force, k_torque = get_dyn_constants(body_mass)\n",
    "    print(\"k_force:\", k_force)\n",
    "    print(\"k_torque:\", k_torque)\n",
    "    print(\"body_mass:\", body_mass)\n",
    "    print(\"4*k_force*ms**2:\", 4*k_force*(750**2))\n",
    "    k_damp = 0.5 #swag\n",
    "    omega_prev = omega_init\n",
    "    pos_prev = pos_init\n",
    "    vel_prev = vel_init\n",
    "    accel_prev = np.array([0., 0., 0.])/body_mass\n",
    "    q_prev = q_init\n",
    "    \n",
    "    first_run = True\n",
    "    \n",
    "    pos_cur = None\n",
    "    vel_cur = None\n",
    "    accel_cur = None\n",
    "    q_cur = None\n",
    "    omega_cur = None\n",
    "    \n",
    "    positions = []\n",
    "    qs = []\n",
    "    motor_speeds = [750,]*4\n",
    "    times = []\n",
    "    \n",
    "    for step in range(0, num_timesteps):\n",
    "        command_angles = []\n",
    "        command_throttle = 0\n",
    "        if step >= 0 and step*dt <= 1.5:\n",
    "            command_angles = [45, 0, 0]\n",
    "            command_throttle = 900\n",
    "        elif step*dt > 1.5 and step*dt <= 3.0:\n",
    "            command_angles = [-45, 0., 0]\n",
    "            command_throttle = 900\n",
    "        elif step*dt > 3.0 and step*dt <= 3.3:\n",
    "            command_angles = [45, 0, 0]\n",
    "            command_throttle = 900\n",
    "        else:\n",
    "            command_angles = [0., 0., 0]\n",
    "            command_throttle = 750\n",
    "        #command_angles = [0., 0., 0]\n",
    "        #command_throttle = 750\n",
    "        #print(\"###############################################\")\n",
    "        if first_run:\n",
    "            motor_speeds = [750,]*4\n",
    "            first_run = False\n",
    "        else:\n",
    "            motor_speeds = controller(q_prev, omega_prev, command_angles, command_throttle)\n",
    "        #print(\"motor speeds:\", motor_speeds)\n",
    "        q_cur, omega_cur = update_orientation_body(\n",
    "            omega_prev,\n",
    "            q_prev,\n",
    "            dt,\n",
    "            arm_lengths,\n",
    "            k_force,\n",
    "            k_torque,\n",
    "            body_inertia_tensor,\n",
    "            motor_speeds\n",
    "        )\n",
    "        \n",
    "        pos_cur, vel_cur, accel_cur = update_pos_vel_inertial(\n",
    "            pos_prev,\n",
    "            vel_prev,\n",
    "            accel_prev,\n",
    "            q_cur,\n",
    "            motor_speeds,\n",
    "            k_force,\n",
    "            k_damp,\n",
    "            body_mass,\n",
    "            dt\n",
    "        )\n",
    "        pos_prev = pos_cur\n",
    "        vel_prev = vel_cur\n",
    "        accel_prev = accel_cur\n",
    "        q_prev = q_cur\n",
    "        omega_prev = omega_cur\n",
    "        positions.append(pos_prev)\n",
    "        qs.append(q_prev)\n",
    "        \n",
    "        if len(times) == 0:\n",
    "            times.append(0.)\n",
    "        else:\n",
    "            times.append(times[-1] + dt)\n",
    "        \n",
    "        if np.any(np.isnan(q_cur)):\n",
    "            print(\"Found nan in orientation quaternion, exiting\")\n",
    "            break\n",
    "        \n",
    "        if pos_cur[2] <= 0.:\n",
    "            print(\"CM ended up below the floor, exiting\")\n",
    "            break\n",
    "        \n",
    "    return positions, qs, times"
   ]
  },
  {
   "cell_type": "code",
   "execution_count": 17,
   "metadata": {
    "scrolled": true
   },
   "outputs": [
    {
     "name": "stdout",
     "output_type": "stream",
     "text": [
      "body inertia tensor:\n",
      "\n",
      " [[0.0528 0.     0.    ]\n",
      " [0.     0.0528 0.    ]\n",
      " [0.     0.     0.0996]]\n",
      "k_force: 2.8776e-06\n",
      "k_torque: 2.1636814048817637e-05\n",
      "body_mass: 0.66\n",
      "4*k_force*ms**2: 6.474600000000001\n",
      "5.0\n"
     ]
    }
   ],
   "source": [
    "#n = np.array([0., 1., 1.])\n",
    "n = np.array([1., 0., 0.])\n",
    "n_hat = n/np.linalg.norm(n)\n",
    "dtheta = 0*np.pi/2\n",
    "\n",
    "q_init = np.array(\n",
    "    [\n",
    "        np.cos(dtheta/2),\n",
    "        np.sin(dtheta/2)*n_hat[0],\n",
    "        np.sin(dtheta/2)*n_hat[1],\n",
    "        np.sin(dtheta/2)*n_hat[2],\n",
    "    ]\n",
    ")\n",
    "#omega_init = 0.*np.array([np.pi/2, -np.pi, 2*np.pi])\n",
    "omega_init = np.array([0., 0., 0.])\n",
    "pos_init = np.array([0, 0, 10])\n",
    "vel_init = 0*np.array([10, 10, 0])\n",
    "g = 9.8 # meters/(second*second)\n",
    "\n",
    "# Something weird is going on with the controller class, q_0 is wobbling\n",
    "# around everywhere.\n",
    "controller = AttitudeController([-10.0, 0.0, 10.], [2.0, 0.01, 10.], [-400, 400], [2.0, 0., 0.], [-400, 400])\n",
    "\n",
    "positions, qs, times = run_6dof(10000, 0.0005, pos_init, vel_init, q_init, omega_init, controller)\n",
    "print(10000*0.0005)"
   ]
  },
  {
   "cell_type": "markdown",
   "metadata": {},
   "source": [
    "plt.figure()\n",
    "plt.plot([p[0] for p in positions], [p[1] for p in positions])\n",
    "plt.show()\n",
    "#plt.figure()\n",
    "#plt.plot([p[1] for p in positions])\n",
    "#plt.show()\n",
    "plt.figure()\n",
    "plt.plot(times, [p[2] for p in positions])\n",
    "plt.show()"
   ]
  },
  {
   "cell_type": "code",
   "execution_count": 18,
   "metadata": {},
   "outputs": [
    {
     "data": {
      "image/png": "[encoded data removed]",
      "text/plain": [
       "<Figure size 432x288 with 1 Axes>"
      ]
     },
     "metadata": {},
     "output_type": "display_data"
    },
    {
     "data": {
      "image/png": "[encoded data removed]",
      "text/plain": [
       "<Figure size 432x288 with 1 Axes>"
      ]
     },
     "metadata": {},
     "output_type": "display_data"
    },
    {
     "data": {
      "image/png": "[encoded data removed]",
      "text/plain": [
       "<Figure size 432x288 with 1 Axes>"
      ]
     },
     "metadata": {},
     "output_type": "display_data"
    }
   ],
   "source": [
    "%matplotlib inline\n",
    "phis = []\n",
    "thetas = []\n",
    "psis = []\n",
    "for q_cur in qs:\n",
    "    phi, theta, psi = tait_bryan_from_quat(q_cur)\n",
    "    phis.append(phi)\n",
    "    thetas.append(theta)\n",
    "    psis.append(psi)\n",
    "    \n",
    "plt.figure()\n",
    "plt.plot(times, phis)\n",
    "plt.show()\n",
    "\n",
    "plt.figure()\n",
    "plt.plot(times, thetas)\n",
    "plt.show()\n",
    "\n",
    "plt.figure()\n",
    "plt.plot(times, psis)\n",
    "plt.show()"
   ]
  },
  {
   "cell_type": "code",
   "execution_count": 19,
   "metadata": {
    "scrolled": true
   },
   "outputs": [
    {
     "name": "stdout",
     "output_type": "stream",
     "text": [
      "5 2\n",
      "(10000, 3)\n"
     ]
    },
    {
     "data": {
      "text/plain": [
       "<mpl_toolkits.mplot3d.art3d.Path3DCollection at 0x7f370837e278>"
      ]
     },
     "execution_count": 19,
     "metadata": {},
     "output_type": "execute_result"
    }
   ],
   "source": [
    "%matplotlib tk\n",
    "print(5 % (len(qs)//100), 2 % 4)\n",
    "qs = np.array(qs)\n",
    "positions = np.array(positions)\n",
    "print(positions.shape)\n",
    "orientation_indices = np.array([i for i in range(len(qs)) if ((i % (len(qs)//100)) == 0) or (i == len(qs) - 1)]).astype(np.int32)\n",
    "#print(orientation_indices, type(orientation_indices))\n",
    "orientation_slices = qs[orientation_indices]\n",
    "position_slices = positions[orientation_indices]\n",
    "window_min = np.min(position_slices)\n",
    "window_max = np.max(position_slices)\n",
    "\n",
    "fig = plt.figure()\n",
    "ax = fig.gca(projection='3d')\n",
    "#ax.set_aspect('equal')\n",
    "#ax.axis('equal')\n",
    "ax.set_xlim3d(window_min, window_max)\n",
    "ax.set_ylim3d(window_min, window_max)\n",
    "ax.set_zlim3d(window_min, window_max)\n",
    "corners_init = 1.5*np.array([[-0.2, -0.2, 0], [0.2, -0.2, 0], [0.2, 0.2, 0], [-0.2, 0.2, 0]])\n",
    "\n",
    "corners = []\n",
    "for q, r in zip(orientation_slices, position_slices):\n",
    "    #print(r.shape)\n",
    "    corners.append((DCM_from_quat(q).T.dot(corners_init.T)).T + r)\n",
    "\n",
    "corners = np.array(corners)\n",
    "#print(corners[:, 0, 0])\n",
    "ax.scatter(corners[:, 0, 0], corners[:, 0, 1], corners[:, 0, 2])\n",
    "ax.scatter(corners[:, 1, 0], corners[:, 1, 1], corners[:, 1, 2])\n",
    "ax.scatter(corners[:, 2, 0], corners[:, 2, 1], corners[:, 2, 2])\n",
    "ax.scatter(corners[:, 3, 0], corners[:, 3, 1], corners[:, 3, 2])\n",
    "#ax.axis('equal')\n",
    "#Axes3D.scatter(list(corners[:, 0, 0]), list(corners[:, 0, 1]), list(corners[:, 0, 2]))\n"
   ]
  },
  {
   "cell_type": "code",
   "execution_count": 20,
   "metadata": {},
   "outputs": [],
   "source": [
    "def update_plot(num, data, line):\n",
    "    print(\"num:\", num)\n",
    "    line.set_data(data[:2, :num])\n",
    "    line.set_3d_properties(data[2, :num])"
   ]
  },
  {
   "cell_type": "code",
   "execution_count": 21,
   "metadata": {},
   "outputs": [],
   "source": [
    "#fig = plt.figure()\n",
    "#ax = p3.Axes3D(fig)\n",
    "\n",
    "positions = np.array(positions)\n",
    "positions = positions.T\n",
    "line, = ax.plot(positions[0, 0:1], positions[1, 0:1], positions[2, 0:1])\n",
    "N = positions.shape[1]\n",
    "#ani = animation.FuncAnimation(fig, update_plot, N, fargs=(positions, line), interval=10000/N, blit=False)\n",
    "#ani.save('matplot003.gif', writer='imagemagick')\n",
    "#plt.show()\n",
    "#plt.close()"
   ]
  },
  {
   "cell_type": "code",
   "execution_count": 22,
   "metadata": {},
   "outputs": [
    {
     "data": {
      "text/plain": [
       "(3, 10000)"
      ]
     },
     "execution_count": 22,
     "metadata": {},
     "output_type": "execute_result"
    }
   ],
   "source": [
    "positions.shape"
   ]
  },
  {
   "cell_type": "code",
   "execution_count": 23,
   "metadata": {},
   "outputs": [],
   "source": [
    "def wtf(d):\n",
    "    x_prev = np.array([0., 0., 0.,])\n",
    "    v_prev = np.array([0., 0., 0.,])\n",
    "    a_prev = np.array([0., 0., 0.,])\n",
    "\n",
    "    poss = []\n",
    "    \n",
    "    dt = 0.0001\n",
    "    for t in range(0, 50000):\n",
    "        x_next = x_prev + v_prev*dt + 0.5*a_prev*dt*dt\n",
    "        a_next = np.array([0., 0., -9.8]) - d*v_prev\n",
    "        v_next = v_prev + 0.5*(a_next + a_prev)*dt\n",
    "        \n",
    "        x_prev = x_next\n",
    "        a_prev = a_next\n",
    "        v_prev = v_next\n",
    "        \n",
    "        poss.append(x_prev)\n",
    "        \n",
    "    plt.figure()\n",
    "    plt.plot([p[2] for p in poss])\n",
    "    plt.show()"
   ]
  },
  {
   "cell_type": "code",
   "execution_count": 24,
   "metadata": {},
   "outputs": [
    {
     "data": {
      "text/plain": [
       "(0.0, 0.0, 0.0)"
      ]
     },
     "execution_count": 24,
     "metadata": {},
     "output_type": "execute_result"
    }
   ],
   "source": [
    "tait_bryan_from_quat(q_init)"
   ]
  },
  {
   "cell_type": "code",
   "execution_count": 25,
   "metadata": {},
   "outputs": [
    {
     "name": "stdout",
     "output_type": "stream",
     "text": [
      "[[18.93939394  0.          0.        ]\n",
      " [ 0.         18.93939394  0.        ]\n",
      " [ 0.          0.         10.04016064]]\n",
      "[[0.0528 0.     0.    ]\n",
      " [0.     0.0528 0.    ]\n",
      " [0.     0.     0.0996]]\n"
     ]
    }
   ],
   "source": [
    "body_mass, body_inertia_tensor, arm_lengths = get_body_constants()\n",
    "print(np.linalg.inv(body_inertia_tensor))\n",
    "print(body_inertia_tensor)"
   ]
  },
  {
   "cell_type": "code",
   "execution_count": 26,
   "metadata": {},
   "outputs": [],
   "source": [
    "#distances = []\n",
    "#for k in range(len(corners)):\n",
    "#    for i in range(4):\n",
    "#        for j in range(4):\n",
    "#            distances.append(np.linalg.norm(corners[k, i, :] - corners[k, j, :]))"
   ]
  },
  {
   "cell_type": "code",
   "execution_count": 27,
   "metadata": {},
   "outputs": [],
   "source": [
    "#plt.plot(list(set(distances)))"
   ]
  },
  {
   "cell_type": "code",
   "execution_count": null,
   "metadata": {},
   "outputs": [],
   "source": []
  }
 ],
 "metadata": {
  "kernelspec": {
   "display_name": "Python 3",
   "language": "python",
   "name": "python3"
  },
  "language_info": {
   "codemirror_mode": {
    "name": "ipython",
    "version": 3
   },
   "file_extension": ".py",
   "mimetype": "text/x-python",
   "name": "python",
   "nbconvert_exporter": "python",
   "pygments_lexer": "ipython3",
   "version": "3.5.2"
  }
 },
 "nbformat": 4,
 "nbformat_minor": 2
}
