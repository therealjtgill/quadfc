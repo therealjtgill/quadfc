{
 "cells": [
  {
   "cell_type": "code",
   "execution_count": 6,
   "metadata": {},
   "outputs": [],
   "source": [
    "import numpy as np\n",
    "import matplotlib.pyplot as plt"
   ]
  },
  {
   "cell_type": "code",
   "execution_count": 55,
   "metadata": {},
   "outputs": [],
   "source": [
    "arm_mass = 0.2 #kg\n",
    "arm_length = 0.6 #meter\n",
    "motor_mass = 0.065\n",
    "\n",
    "arm_lengths = [arm_length,]*4\n",
    "\n",
    "total_inertia_tensor = np.zeros((3, 3))\n",
    "\n",
    "arms_inertia_tensor = np.zeros((3, 3))\n",
    "arms_inertia_tensor[0, 0] = 2*(1/12)*arm_mass*arm_length**2\n",
    "arms_inertia_tensor[1, 1] = (1/12)*arm_mass*arm_length**2\n",
    "arms_inertia_tensor[2, 2] = (1/12)*arm_mass*arm_length**2\n",
    "\n",
    "motors_inertia_tensor = np.zeros((3, 3))\n",
    "motors_inertia_tensor[0, 0] = 2*motor_mass*arm_length**2\n",
    "motors_inertia_tensor[1, 1] = 2*motor_mass*arm_length**2\n",
    "motors_inertia_tensor[2, 2] = 4*motor_mass*arm_length**2"
   ]
  },
  {
   "cell_type": "code",
   "execution_count": 56,
   "metadata": {},
   "outputs": [],
   "source": [
    "#rot_z_45 = np.zeros((3, 3))\n",
    "#rot_z_45[0, 0] = np.cos(np.pi/4)\n",
    "#rot_z_45[0, 1] = -np.sin(np.pi/4)\n",
    "#rot_z_45[1, 0] = np.sin(np.pi/4)\n",
    "#rot_z_45[1, 1] = np.cos(np.pi/4)\n",
    "#rot_z_45[2, 2] = 1\n",
    "\n",
    "total_inertia_tensor = arms_inertia_tensor + motors_inertia_tensor\n",
    "#total_inertia_tensor = rot_z_45.dot(total_inertia_tensor)"
   ]
  },
  {
   "cell_type": "code",
   "execution_count": 62,
   "metadata": {},
   "outputs": [],
   "source": [
    "def quat_mult(q1, q2):\n",
    "    q3 = np.zeros((4, 1))\n",
    "    q3[0] = q1[0]*q2[0] - q1[1:].dot(q2[1:])\n",
    "    q3[1:] = q1[0]*q2[1:] + q2[0]*q1[1:] + np.cross(q1[1:], q2[1:])\n",
    "    return q3"
   ]
  },
  {
   "cell_type": "code",
   "execution_count": 66,
   "metadata": {},
   "outputs": [],
   "source": [
    "def quat_inv(q1):\n",
    "    q2 = np.zeros((4, 1))\n",
    "    mag = np.linalg.norm(q1)\n",
    "    q2[0] = q1[0]\n",
    "    q2[1:] = -1.*q1[1:]\n",
    "    q2 /= (mag*mag)\n",
    "    return q2"
   ]
  },
  {
   "cell_type": "code",
   "execution_count": 57,
   "metadata": {},
   "outputs": [],
   "source": [
    "def calc_omega_dot_body(omega_body, inertia_body, torques_body):\n",
    "    omega_dot_body = np.linalg.inv(inertia_body).dot(torques_body - np.cross(omega_body, (inertia_body.dot(omega_body))))\n",
    "    return omega_dot_body"
   ]
  },
  {
   "cell_type": "code",
   "execution_count": 59,
   "metadata": {},
   "outputs": [],
   "source": [
    "def get_torques_body(motor_speeds, arm_lengths, k_force, k_torque):\n",
    "    torques_body = np.zeros((3, 1))\n",
    "    torques_body[0] = arm_lengths[1]*k_force*(motor_speeds[1]**2) - arm_lengths[2]*k_force*(motor_speeds[2]**2)\n",
    "    torques_body[1] = arm_lengths[3]*k_force*(motor_speeds[3]**2) - arm_lengths[0]*k_force*(motor_speeds[0]**2)\n",
    "    torques_body[2] = k_torque*(-1*motor_speeds[0]**2 + motor_speeds[1]**2 - motor_speeds[2]**2 + motor_speeds[3]**2)\n",
    "    return torques_body"
   ]
  },
  {
   "cell_type": "code",
   "execution_count": 60,
   "metadata": {},
   "outputs": [],
   "source": [
    "def get_forces_body(motor_speeds, k_force):\n",
    "    forces_body = np.zeros((3, 1))\n",
    "    forces_body[2] = k_force*sum([s**2 for s in motor_speeds])\n",
    "    return forces_body"
   ]
  },
  {
   "cell_type": "code",
   "execution_count": 64,
   "metadata": {},
   "outputs": [],
   "source": [
    "def update_orientation_body(omega_body_prev, q_body_prev, dt, arm_lengths, k_force, k_torque, inertia_body, motor_speeds):\n",
    "    torques_body = get_torques_body(motor_speeds, arm_lengths, k_force, k_torque)\n",
    "    omega_dot_body = calc_omega_dot_body(omega_body_prev, inertia, torques_body)\n",
    "    omega_body = omega_body_prev + omega_dot_body*dt\n",
    "    delta_theta = np.linalg.norm(omega_body)\n",
    "    quat_omega_body = np.array([np.cos(delta_theta*dt/2.)] + list(np.sin(delta_theta*dt/2.)*omega_body/delta_theta))\n",
    "    q_body = quat_mult(q_body_prev, quat_omega_body)\n",
    "    if np.linalg.norm(q_body) < 0.999:\n",
    "        q_body += 0.1*(1. - np.linalg.norm(q_body)**2)*q_body\n",
    "        \n",
    "    return q_body"
   ]
  },
  {
   "cell_type": "code",
   "execution_count": 67,
   "metadata": {},
   "outputs": [],
   "source": [
    "def get_accel_inertial(vel_inert_prev, q_body, motor_speeds, k_force, k_damp):\n",
    "    accel_inert = np.zeros((3, 1))\n",
    "    forces_body = get_forces_body(motor_speeds, k_force)\n",
    "    forces_body_quat = np.zeros((4, 1))\n",
    "    forces_body_quat[1:] = forces_body\n",
    "    accel_inert = np.array([0, 0, -9.8]) + \\\n",
    "        quat_mult(quat_mult(quat_inv(q_body), forces_body_quat), q_body)[1:] - \\\n",
    "        k_damp*vel_inert_prev\n",
    "    return accel_inert"
   ]
  },
  {
   "cell_type": "code",
   "execution_count": 68,
   "metadata": {},
   "outputs": [],
   "source": [
    "def update_pos_vel_inertial(pos_inert_prev, vel_inert_prev, accel_inert_prev, q_body, motor_speeds, k_force, k_damp, dt):\n",
    "    \n",
    "    # Velocity verlet\n",
    "    pos_inert = pos_inert_prev + vel_inert_prev*dt + 0.5*accel_inert_prev*dt*dt\n",
    "    accel_inert = get_accel_inertial(vel_inert_prev, q_body, motor_speeds, k_force, k_damp)\n",
    "    vel_inert = vel_inert_prev + 0.5(accel_inert + accel_inert_prev)*dt\n",
    "    \n",
    "    return (vel_inert, pos_inert, accel_inert)"
   ]
  },
  {
   "cell_type": "code",
   "execution_count": null,
   "metadata": {},
   "outputs": [],
   "source": []
  }
 ],
 "metadata": {
  "kernelspec": {
   "display_name": "Python 3",
   "language": "python",
   "name": "python3"
  },
  "language_info": {
   "codemirror_mode": {
    "name": "ipython",
    "version": 3
   },
   "file_extension": ".py",
   "mimetype": "text/x-python",
   "name": "python",
   "nbconvert_exporter": "python",
   "pygments_lexer": "ipython3",
   "version": "3.5.2"
  }
 },
 "nbformat": 4,
 "nbformat_minor": 2
}
